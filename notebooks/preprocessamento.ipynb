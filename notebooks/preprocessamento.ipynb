{
 "cells": [
  {
   "cell_type": "markdown",
   "id": "429fce57",
   "metadata": {},
   "source": [
    "## Etapa de Pré Processamento dos Dados"
   ]
  },
  {
   "cell_type": "markdown",
   "id": "b22289bb",
   "metadata": {},
   "source": [
    "### Importação de bibliotecas"
   ]
  },
  {
   "cell_type": "code",
   "execution_count": 1,
   "id": "0e01707d",
   "metadata": {},
   "outputs": [],
   "source": [
    "import pandas as pd"
   ]
  },
  {
   "cell_type": "markdown",
   "id": "f8cd211c",
   "metadata": {},
   "source": [
    "### Lendo base"
   ]
  },
  {
   "cell_type": "code",
   "execution_count": 4,
   "id": "59b8cd1f",
   "metadata": {},
   "outputs": [],
   "source": [
    "df_corridas = pd.read_excel(\"../data/raw/trips_data.xlsx\")"
   ]
  },
  {
   "cell_type": "code",
   "execution_count": 7,
   "id": "4bfcc5d1",
   "metadata": {},
   "outputs": [
    {
     "data": {
      "text/html": [
       "<div>\n",
       "<style scoped>\n",
       "    .dataframe tbody tr th:only-of-type {\n",
       "        vertical-align: middle;\n",
       "    }\n",
       "\n",
       "    .dataframe tbody tr th {\n",
       "        vertical-align: top;\n",
       "    }\n",
       "\n",
       "    .dataframe thead th {\n",
       "        text-align: right;\n",
       "    }\n",
       "</style>\n",
       "<table border=\"1\" class=\"dataframe\">\n",
       "  <thead>\n",
       "    <tr style=\"text-align: right;\">\n",
       "      <th></th>\n",
       "      <th>city</th>\n",
       "      <th>product_type</th>\n",
       "      <th>status</th>\n",
       "      <th>request_time</th>\n",
       "      <th>begin_trip_time</th>\n",
       "      <th>begintrip_lat</th>\n",
       "      <th>begintrip_lng</th>\n",
       "      <th>begintrip_address</th>\n",
       "      <th>dropoff_time</th>\n",
       "      <th>dropoff_lat</th>\n",
       "      <th>dropoff_lng</th>\n",
       "      <th>dropoff_address</th>\n",
       "      <th>distance</th>\n",
       "      <th>fare_currency</th>\n",
       "      <th>fare_amount</th>\n",
       "    </tr>\n",
       "  </thead>\n",
       "  <tbody>\n",
       "    <tr>\n",
       "      <th>0</th>\n",
       "      <td>Manaus</td>\n",
       "      <td>UberX</td>\n",
       "      <td>completed</td>\n",
       "      <td>2025-05-29T13:12:25.000Z</td>\n",
       "      <td>2025-05-29T13:22:05.000Z</td>\n",
       "      <td>-30727084.0</td>\n",
       "      <td>-6006748.0</td>\n",
       "      <td>Rua Ubaira, 65 - Manaus - AM, 69038-288</td>\n",
       "      <td>2025-05-29T13:44:07.000Z</td>\n",
       "      <td>-3092281.0</td>\n",
       "      <td>-60017246.0</td>\n",
       "      <td>Av. Darcy Vargas, 1.200 - Parque Dez de Novemb...</td>\n",
       "      <td>5.0</td>\n",
       "      <td>Brazilian Real</td>\n",
       "      <td>14.91</td>\n",
       "    </tr>\n",
       "    <tr>\n",
       "      <th>1</th>\n",
       "      <td>Manaus</td>\n",
       "      <td>uberX VIP</td>\n",
       "      <td>rider_canceled</td>\n",
       "      <td>2025-05-29T12:18:44.000Z</td>\n",
       "      <td>NaN</td>\n",
       "      <td>-30727746.0</td>\n",
       "      <td>-60067474.0</td>\n",
       "      <td>NaN</td>\n",
       "      <td>NaN</td>\n",
       "      <td>-30727746.0</td>\n",
       "      <td>-60067474.0</td>\n",
       "      <td>Av. Darcy Vargas, 1.200 - Parque Dez de Novemb...</td>\n",
       "      <td>0.0</td>\n",
       "      <td>Brazilian Real</td>\n",
       "      <td>0.0</td>\n",
       "    </tr>\n",
       "    <tr>\n",
       "      <th>2</th>\n",
       "      <td>Manaus</td>\n",
       "      <td>uberX VIP</td>\n",
       "      <td>completed</td>\n",
       "      <td>2025-05-28T11:11:26.000Z</td>\n",
       "      <td>2025-05-28T11:27:22.000Z</td>\n",
       "      <td>-30727842.0</td>\n",
       "      <td>-6006745.0</td>\n",
       "      <td>Rua Ubaira, 65 - Manaus - AM, 69038-288</td>\n",
       "      <td>2025-05-28T11:56:30.000Z</td>\n",
       "      <td>-30922253.0</td>\n",
       "      <td>-60017117.0</td>\n",
       "      <td>Av. Darcy Vargas, 1.200 - Parque Dez de Novemb...</td>\n",
       "      <td>5.47</td>\n",
       "      <td>Brazilian Real</td>\n",
       "      <td>2025-08-20 00:00:00</td>\n",
       "    </tr>\n",
       "    <tr>\n",
       "      <th>3</th>\n",
       "      <td>Manaus</td>\n",
       "      <td>UberX</td>\n",
       "      <td>completed</td>\n",
       "      <td>2025-05-28T02:04:45.000Z</td>\n",
       "      <td>2025-05-28T02:12:01.000Z</td>\n",
       "      <td>-30831482.0</td>\n",
       "      <td>-60038486.0</td>\n",
       "      <td>Rua Mem de Sá, 966 - Alvorada - Manaus - AM, 6...</td>\n",
       "      <td>2025-05-28T02:21:54.000Z</td>\n",
       "      <td>-3072587.0</td>\n",
       "      <td>-6006745.0</td>\n",
       "      <td>Rua Ubaira, 65 - Manaus - AM, 69038-288</td>\n",
       "      <td>2025-09-02 00:00:00</td>\n",
       "      <td>Brazilian Real</td>\n",
       "      <td>11.92</td>\n",
       "    </tr>\n",
       "    <tr>\n",
       "      <th>4</th>\n",
       "      <td>Manaus</td>\n",
       "      <td>uberX VIP</td>\n",
       "      <td>completed</td>\n",
       "      <td>2025-05-27T12:11:36.000Z</td>\n",
       "      <td>2025-05-27T12:26:51.000Z</td>\n",
       "      <td>-30725782.0</td>\n",
       "      <td>-60067455.0</td>\n",
       "      <td>Rua Ubaira, 65 - Manaus - AM, 69038-288</td>\n",
       "      <td>2025-05-27T12:56:05.000Z</td>\n",
       "      <td>-30922747.0</td>\n",
       "      <td>-60017235.0</td>\n",
       "      <td>Av. Darcy Vargas, 1.200 - Parque Dez de Novemb...</td>\n",
       "      <td>4.95</td>\n",
       "      <td>Brazilian Real</td>\n",
       "      <td>16.93</td>\n",
       "    </tr>\n",
       "  </tbody>\n",
       "</table>\n",
       "</div>"
      ],
      "text/plain": [
       "     city product_type          status              request_time  \\\n",
       "0  Manaus        UberX       completed  2025-05-29T13:12:25.000Z   \n",
       "1  Manaus    uberX VIP  rider_canceled  2025-05-29T12:18:44.000Z   \n",
       "2  Manaus    uberX VIP       completed  2025-05-28T11:11:26.000Z   \n",
       "3  Manaus        UberX       completed  2025-05-28T02:04:45.000Z   \n",
       "4  Manaus    uberX VIP       completed  2025-05-27T12:11:36.000Z   \n",
       "\n",
       "            begin_trip_time  begintrip_lat  begintrip_lng  \\\n",
       "0  2025-05-29T13:22:05.000Z    -30727084.0     -6006748.0   \n",
       "1                       NaN    -30727746.0    -60067474.0   \n",
       "2  2025-05-28T11:27:22.000Z    -30727842.0     -6006745.0   \n",
       "3  2025-05-28T02:12:01.000Z    -30831482.0    -60038486.0   \n",
       "4  2025-05-27T12:26:51.000Z    -30725782.0    -60067455.0   \n",
       "\n",
       "                                   begintrip_address  \\\n",
       "0            Rua Ubaira, 65 - Manaus - AM, 69038-288   \n",
       "1                                                NaN   \n",
       "2            Rua Ubaira, 65 - Manaus - AM, 69038-288   \n",
       "3  Rua Mem de Sá, 966 - Alvorada - Manaus - AM, 6...   \n",
       "4            Rua Ubaira, 65 - Manaus - AM, 69038-288   \n",
       "\n",
       "               dropoff_time  dropoff_lat  dropoff_lng  \\\n",
       "0  2025-05-29T13:44:07.000Z   -3092281.0  -60017246.0   \n",
       "1                       NaN  -30727746.0  -60067474.0   \n",
       "2  2025-05-28T11:56:30.000Z  -30922253.0  -60017117.0   \n",
       "3  2025-05-28T02:21:54.000Z   -3072587.0   -6006745.0   \n",
       "4  2025-05-27T12:56:05.000Z  -30922747.0  -60017235.0   \n",
       "\n",
       "                                     dropoff_address             distance  \\\n",
       "0  Av. Darcy Vargas, 1.200 - Parque Dez de Novemb...                  5.0   \n",
       "1  Av. Darcy Vargas, 1.200 - Parque Dez de Novemb...                  0.0   \n",
       "2  Av. Darcy Vargas, 1.200 - Parque Dez de Novemb...                 5.47   \n",
       "3            Rua Ubaira, 65 - Manaus - AM, 69038-288  2025-09-02 00:00:00   \n",
       "4  Av. Darcy Vargas, 1.200 - Parque Dez de Novemb...                 4.95   \n",
       "\n",
       "    fare_currency          fare_amount  \n",
       "0  Brazilian Real                14.91  \n",
       "1  Brazilian Real                  0.0  \n",
       "2  Brazilian Real  2025-08-20 00:00:00  \n",
       "3  Brazilian Real                11.92  \n",
       "4  Brazilian Real                16.93  "
      ]
     },
     "execution_count": 7,
     "metadata": {},
     "output_type": "execute_result"
    }
   ],
   "source": [
    "df_corridas.head()"
   ]
  },
  {
   "cell_type": "markdown",
   "id": "3ef853d6",
   "metadata": {},
   "source": [
    "### Tipos de Corridas"
   ]
  },
  {
   "cell_type": "code",
   "execution_count": 16,
   "id": "a1589eab",
   "metadata": {},
   "outputs": [
    {
     "data": {
      "text/plain": [
       "0             UberX\n",
       "1         uberX VIP\n",
       "34             Moto\n",
       "35          Comfort\n",
       "83       Flash Moto\n",
       "102       Wait&Save\n",
       "130      Prioridade\n",
       "147     Flash Bikes\n",
       "270           uberX\n",
       "466           Flash\n",
       "1623    UberX Promo\n",
       "Name: product_type, dtype: object"
      ]
     },
     "execution_count": 16,
     "metadata": {},
     "output_type": "execute_result"
    }
   ],
   "source": [
    "df_corridas[\"product_type\"].drop_duplicates()"
   ]
  },
  {
   "cell_type": "markdown",
   "id": "13e43c43",
   "metadata": {},
   "source": [
    "### Tipos de Status"
   ]
  },
  {
   "cell_type": "code",
   "execution_count": 17,
   "id": "5f83c257",
   "metadata": {},
   "outputs": [
    {
     "data": {
      "text/plain": [
       "0            completed\n",
       "1       rider_canceled\n",
       "30         unfulfilled\n",
       "114             failed\n",
       "185    driver_canceled\n",
       "Name: status, dtype: object"
      ]
     },
     "execution_count": 17,
     "metadata": {},
     "output_type": "execute_result"
    }
   ],
   "source": [
    "df_corridas[\"status\"].drop_duplicates()"
   ]
  },
  {
   "cell_type": "markdown",
   "id": "298ebf2e",
   "metadata": {},
   "source": [
    "### Análises"
   ]
  },
  {
   "cell_type": "code",
   "execution_count": 34,
   "id": "623a85c9",
   "metadata": {},
   "outputs": [
    {
     "data": {
      "text/plain": [
       "1647"
      ]
     },
     "execution_count": 34,
     "metadata": {},
     "output_type": "execute_result"
    }
   ],
   "source": [
    "# Quantidade de corridas totais\n",
    "df_corridas.shape[0]"
   ]
  },
  {
   "cell_type": "code",
   "execution_count": 31,
   "id": "7e00689e",
   "metadata": {},
   "outputs": [
    {
     "data": {
      "text/plain": [
       "645"
      ]
     },
     "execution_count": 31,
     "metadata": {},
     "output_type": "execute_result"
    }
   ],
   "source": [
    "# Quantidade de corridas não completas\n",
    "df_corridas[df_corridas[\"status\"] != \"completed\"].shape[0]"
   ]
  },
  {
   "cell_type": "code",
   "execution_count": 32,
   "id": "a931910f",
   "metadata": {},
   "outputs": [
    {
     "data": {
      "text/plain": [
       "1002"
      ]
     },
     "execution_count": 32,
     "metadata": {},
     "output_type": "execute_result"
    }
   ],
   "source": [
    "# Quantidade de corridas completas\n",
    "df_corridas[df_corridas[\"status\"] == \"completed\"].shape[0]"
   ]
  },
  {
   "cell_type": "code",
   "execution_count": 33,
   "id": "b633316b",
   "metadata": {},
   "outputs": [
    {
     "data": {
      "text/plain": [
       "993"
      ]
     },
     "execution_count": 33,
     "metadata": {},
     "output_type": "execute_result"
    }
   ],
   "source": [
    "# Quantidade de corridas completas em Manaus\n",
    "df_corridas[(df_corridas[\"status\"] == \"completed\") & (df_corridas[\"city\"] == \"Manaus\")].shape[0]"
   ]
  },
  {
   "cell_type": "code",
   "execution_count": 35,
   "id": "59876614",
   "metadata": {},
   "outputs": [
    {
     "name": "stdout",
     "output_type": "stream",
     "text": [
      "product_type\n",
      "UberX          557\n",
      "uberX VIP      329\n",
      "Moto            46\n",
      "Prioridade      25\n",
      "Flash Moto      22\n",
      "Comfort          5\n",
      "Flash            4\n",
      "UberX Promo      3\n",
      "Flash Bikes      2\n",
      "Name: count, dtype: int64\n"
     ]
    }
   ],
   "source": [
    "# Filtra corridas completas em manaus\n",
    "df_corridas_completas_manaus = df_corridas[\n",
    "    (df_corridas[\"city\"] == \"Manaus\") &\n",
    "    (df_corridas[\"status\"] == \"completed\")\n",
    "]\n",
    "\n",
    "# Conta o número de corridas por tipo de produto\n",
    "contagem_por_modalidade = df_corridas_completas_manaus[\"product_type\"].value_counts()\n",
    "\n",
    "# Mostra o resultado\n",
    "print(contagem_por_modalidade)"
   ]
  },
  {
   "cell_type": "markdown",
   "id": "1a07d407",
   "metadata": {},
   "source": [
    "## Possíveis tratamentos:"
   ]
  },
  {
   "cell_type": "markdown",
   "id": "dac3c4ef",
   "metadata": {},
   "source": [
    "- Filtar somente cidade de Manaus\n",
    "- Filtrar somente colunas que vão ser utilizadas\n",
    "- Conversão de colunas de data/hora para datetime\n",
    "- Criação de colunas derivadas: mês, dia_da_semana, hora_do_dia\n",
    "- Cálculo de nova métrica: custo por km\n",
    "- Filtragem de corridas canceladas quando necessário\n",
    "- Normalização de nomes de serviços, remoção de strings desnecessárias\n",
    "- Filtrar somente corridas completas para análises específicas\n",
    "- Descartar modalidades de corrida com poucos dados"
   ]
  },
  {
   "cell_type": "code",
   "execution_count": null,
   "id": "468740cd",
   "metadata": {},
   "outputs": [],
   "source": []
  }
 ],
 "metadata": {
  "kernelspec": {
   "display_name": "Python 3",
   "language": "python",
   "name": "python3"
  },
  "language_info": {
   "codemirror_mode": {
    "name": "ipython",
    "version": 3
   },
   "file_extension": ".py",
   "mimetype": "text/x-python",
   "name": "python",
   "nbconvert_exporter": "python",
   "pygments_lexer": "ipython3",
   "version": "3.9.6"
  }
 },
 "nbformat": 4,
 "nbformat_minor": 5
}
