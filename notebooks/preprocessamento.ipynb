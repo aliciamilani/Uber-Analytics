{
  "cells": [
    {
      "cell_type": "markdown",
      "metadata": {
        "id": "QWDh0p-XnXGf"
      },
      "source": [
        "## Importação de bibliotecas"
      ]
    },
    {
      "cell_type": "code",
      "execution_count": 8,
      "metadata": {
        "id": "FcavIV_aIU81"
      },
      "outputs": [],
      "source": [
        "import pandas as pd\n",
        "import os\n",
        "from pathlib import Path\n",
        "from datetime import date\n",
        "import json\n",
        "import seaborn as sns\n",
        "import matplotlib.pyplot as plt"
      ]
    },
    {
      "cell_type": "markdown",
      "metadata": {
        "id": "i1CmZhOmLFYl"
      },
      "source": [
        "## Pré-processando"
      ]
    },
    {
      "cell_type": "code",
      "execution_count": 10,
      "metadata": {
        "colab": {
          "base_uri": "https://localhost:8080/",
          "height": 399
        },
        "id": "3Iqrn9H8Na0e",
        "outputId": "2fde8b6d-028f-4bc5-e64c-a3b3e82bf9a8"
      },
      "outputs": [
        {
          "data": {
            "text/html": [
              "<div>\n",
              "<style scoped>\n",
              "    .dataframe tbody tr th:only-of-type {\n",
              "        vertical-align: middle;\n",
              "    }\n",
              "\n",
              "    .dataframe tbody tr th {\n",
              "        vertical-align: top;\n",
              "    }\n",
              "\n",
              "    .dataframe thead th {\n",
              "        text-align: right;\n",
              "    }\n",
              "</style>\n",
              "<table border=\"1\" class=\"dataframe\">\n",
              "  <thead>\n",
              "    <tr style=\"text-align: right;\">\n",
              "      <th></th>\n",
              "      <th>city</th>\n",
              "      <th>product_type</th>\n",
              "      <th>status</th>\n",
              "      <th>request_time</th>\n",
              "      <th>begin_trip_time</th>\n",
              "      <th>begintrip_lat</th>\n",
              "      <th>begintrip_lng</th>\n",
              "      <th>begintrip_address</th>\n",
              "      <th>dropoff_time</th>\n",
              "      <th>dropoff_lat</th>\n",
              "      <th>dropoff_lng</th>\n",
              "      <th>dropoff_address</th>\n",
              "      <th>distance</th>\n",
              "      <th>fare_currency</th>\n",
              "      <th>fare_amount</th>\n",
              "    </tr>\n",
              "  </thead>\n",
              "  <tbody>\n",
              "    <tr>\n",
              "      <th>0</th>\n",
              "      <td>Manaus</td>\n",
              "      <td>UberX</td>\n",
              "      <td>completed</td>\n",
              "      <td>2025-06-18T00:00:42.000Z</td>\n",
              "      <td>2025-06-18T00:14:15.000Z</td>\n",
              "      <td>-3.092170</td>\n",
              "      <td>-60.017130</td>\n",
              "      <td>Av. Darcy Vargas, 1.200 - Parque Dez de Novemb...</td>\n",
              "      <td>2025-06-18T00:32:08.000Z</td>\n",
              "      <td>-3.072692</td>\n",
              "      <td>-60.067480</td>\n",
              "      <td>Rua Ubaira, 65 - Manaus - AM, 69038-288</td>\n",
              "      <td>6.32</td>\n",
              "      <td>Brazilian Real</td>\n",
              "      <td>17.96</td>\n",
              "    </tr>\n",
              "    <tr>\n",
              "      <th>1</th>\n",
              "      <td>Manaus</td>\n",
              "      <td>UberX</td>\n",
              "      <td>completed</td>\n",
              "      <td>2025-06-17T20:25:51.000Z</td>\n",
              "      <td>2025-06-17T20:34:14.000Z</td>\n",
              "      <td>-3.072920</td>\n",
              "      <td>-60.067490</td>\n",
              "      <td>Rua Ubaira, 65 - Manaus - AM, 69038-288</td>\n",
              "      <td>2025-06-17T20:56:33.000Z</td>\n",
              "      <td>-3.124575</td>\n",
              "      <td>-60.043434</td>\n",
              "      <td>R. Sagrado Coração de Jesus, 261 - Santa Etelv...</td>\n",
              "      <td>6.54</td>\n",
              "      <td>Brazilian Real</td>\n",
              "      <td>24.14</td>\n",
              "    </tr>\n",
              "    <tr>\n",
              "      <th>2</th>\n",
              "      <td>Manaus</td>\n",
              "      <td>UberX</td>\n",
              "      <td>completed</td>\n",
              "      <td>2025-06-17T12:47:43.000Z</td>\n",
              "      <td>2025-06-17T13:04:47.000Z</td>\n",
              "      <td>-3.072717</td>\n",
              "      <td>-60.067455</td>\n",
              "      <td>Rua Ubaira, 65 - Manaus - AM, 69038-288</td>\n",
              "      <td>2025-06-17T13:26:49.000Z</td>\n",
              "      <td>-3.092227</td>\n",
              "      <td>-60.017178</td>\n",
              "      <td>Av. Darcy Vargas, 1.200 - Parque Dez de Novemb...</td>\n",
              "      <td>5.19</td>\n",
              "      <td>Brazilian Real</td>\n",
              "      <td>17.05</td>\n",
              "    </tr>\n",
              "    <tr>\n",
              "      <th>3</th>\n",
              "      <td>Manaus</td>\n",
              "      <td>UberX</td>\n",
              "      <td>rider_canceled</td>\n",
              "      <td>2025-06-17T12:45:09.000Z</td>\n",
              "      <td>NaN</td>\n",
              "      <td>-3.072766</td>\n",
              "      <td>-60.067474</td>\n",
              "      <td>NaN</td>\n",
              "      <td>NaN</td>\n",
              "      <td>-3.072766</td>\n",
              "      <td>-60.067474</td>\n",
              "      <td>Av. Darcy Vargas, 1.200 - Parque Dez de Novemb...</td>\n",
              "      <td>0.00</td>\n",
              "      <td>Brazilian Real</td>\n",
              "      <td>0.00</td>\n",
              "    </tr>\n",
              "    <tr>\n",
              "      <th>4</th>\n",
              "      <td>Manaus</td>\n",
              "      <td>UberX</td>\n",
              "      <td>rider_canceled</td>\n",
              "      <td>2025-06-17T01:13:04.000Z</td>\n",
              "      <td>NaN</td>\n",
              "      <td>-3.092251</td>\n",
              "      <td>-60.017185</td>\n",
              "      <td>NaN</td>\n",
              "      <td>NaN</td>\n",
              "      <td>-3.092251</td>\n",
              "      <td>-60.017185</td>\n",
              "      <td>Rua Ubaira, 65 - Manaus - AM, 69038-288</td>\n",
              "      <td>0.00</td>\n",
              "      <td>Brazilian Real</td>\n",
              "      <td>0.00</td>\n",
              "    </tr>\n",
              "  </tbody>\n",
              "</table>\n",
              "</div>"
            ],
            "text/plain": [
              "     city product_type          status              request_time  \\\n",
              "0  Manaus        UberX       completed  2025-06-18T00:00:42.000Z   \n",
              "1  Manaus        UberX       completed  2025-06-17T20:25:51.000Z   \n",
              "2  Manaus        UberX       completed  2025-06-17T12:47:43.000Z   \n",
              "3  Manaus        UberX  rider_canceled  2025-06-17T12:45:09.000Z   \n",
              "4  Manaus        UberX  rider_canceled  2025-06-17T01:13:04.000Z   \n",
              "\n",
              "            begin_trip_time  begintrip_lat  begintrip_lng  \\\n",
              "0  2025-06-18T00:14:15.000Z      -3.092170     -60.017130   \n",
              "1  2025-06-17T20:34:14.000Z      -3.072920     -60.067490   \n",
              "2  2025-06-17T13:04:47.000Z      -3.072717     -60.067455   \n",
              "3                       NaN      -3.072766     -60.067474   \n",
              "4                       NaN      -3.092251     -60.017185   \n",
              "\n",
              "                                   begintrip_address  \\\n",
              "0  Av. Darcy Vargas, 1.200 - Parque Dez de Novemb...   \n",
              "1            Rua Ubaira, 65 - Manaus - AM, 69038-288   \n",
              "2            Rua Ubaira, 65 - Manaus - AM, 69038-288   \n",
              "3                                                NaN   \n",
              "4                                                NaN   \n",
              "\n",
              "               dropoff_time  dropoff_lat  dropoff_lng  \\\n",
              "0  2025-06-18T00:32:08.000Z    -3.072692   -60.067480   \n",
              "1  2025-06-17T20:56:33.000Z    -3.124575   -60.043434   \n",
              "2  2025-06-17T13:26:49.000Z    -3.092227   -60.017178   \n",
              "3                       NaN    -3.072766   -60.067474   \n",
              "4                       NaN    -3.092251   -60.017185   \n",
              "\n",
              "                                     dropoff_address  distance  \\\n",
              "0            Rua Ubaira, 65 - Manaus - AM, 69038-288      6.32   \n",
              "1  R. Sagrado Coração de Jesus, 261 - Santa Etelv...      6.54   \n",
              "2  Av. Darcy Vargas, 1.200 - Parque Dez de Novemb...      5.19   \n",
              "3  Av. Darcy Vargas, 1.200 - Parque Dez de Novemb...      0.00   \n",
              "4            Rua Ubaira, 65 - Manaus - AM, 69038-288      0.00   \n",
              "\n",
              "    fare_currency  fare_amount  \n",
              "0  Brazilian Real        17.96  \n",
              "1  Brazilian Real        24.14  \n",
              "2  Brazilian Real        17.05  \n",
              "3  Brazilian Real         0.00  \n",
              "4  Brazilian Real         0.00  "
            ]
          },
          "execution_count": 10,
          "metadata": {},
          "output_type": "execute_result"
        }
      ],
      "source": [
        "caminho_entrada = '../data/raw/trips_data-0-2.csv'\n",
        "df = pd.read_csv(caminho_entrada, sep = ',', decimal = '.')\n",
        "df.head()"
      ]
    },
    {
      "cell_type": "markdown",
      "metadata": {
        "id": "BegcNI8LNu7t"
      },
      "source": [
        "### Selecionando apenas as colunas desejadas"
      ]
    },
    {
      "cell_type": "code",
      "execution_count": 12,
      "metadata": {
        "id": "IOfsxlkUXMLP"
      },
      "outputs": [],
      "source": [
        "colunas_desejadas = ['request_time', 'city', 'product_type', 'status', 'distance', 'fare_amount']\n",
        "df_filtrado = df[colunas_desejadas]"
      ]
    },
    {
      "cell_type": "code",
      "execution_count": 13,
      "metadata": {
        "colab": {
          "base_uri": "https://localhost:8080/",
          "height": 206
        },
        "id": "fI-wYsMcZDQ_",
        "outputId": "45801c52-0666-4a87-de9e-70a50c3d9b49"
      },
      "outputs": [
        {
          "data": {
            "text/html": [
              "<div>\n",
              "<style scoped>\n",
              "    .dataframe tbody tr th:only-of-type {\n",
              "        vertical-align: middle;\n",
              "    }\n",
              "\n",
              "    .dataframe tbody tr th {\n",
              "        vertical-align: top;\n",
              "    }\n",
              "\n",
              "    .dataframe thead th {\n",
              "        text-align: right;\n",
              "    }\n",
              "</style>\n",
              "<table border=\"1\" class=\"dataframe\">\n",
              "  <thead>\n",
              "    <tr style=\"text-align: right;\">\n",
              "      <th></th>\n",
              "      <th>request_time</th>\n",
              "      <th>city</th>\n",
              "      <th>product_type</th>\n",
              "      <th>status</th>\n",
              "      <th>distance</th>\n",
              "      <th>fare_amount</th>\n",
              "    </tr>\n",
              "  </thead>\n",
              "  <tbody>\n",
              "    <tr>\n",
              "      <th>0</th>\n",
              "      <td>2025-06-18T00:00:42.000Z</td>\n",
              "      <td>Manaus</td>\n",
              "      <td>UberX</td>\n",
              "      <td>completed</td>\n",
              "      <td>6.32</td>\n",
              "      <td>17.96</td>\n",
              "    </tr>\n",
              "    <tr>\n",
              "      <th>1</th>\n",
              "      <td>2025-06-17T20:25:51.000Z</td>\n",
              "      <td>Manaus</td>\n",
              "      <td>UberX</td>\n",
              "      <td>completed</td>\n",
              "      <td>6.54</td>\n",
              "      <td>24.14</td>\n",
              "    </tr>\n",
              "    <tr>\n",
              "      <th>2</th>\n",
              "      <td>2025-06-17T12:47:43.000Z</td>\n",
              "      <td>Manaus</td>\n",
              "      <td>UberX</td>\n",
              "      <td>completed</td>\n",
              "      <td>5.19</td>\n",
              "      <td>17.05</td>\n",
              "    </tr>\n",
              "    <tr>\n",
              "      <th>3</th>\n",
              "      <td>2025-06-17T12:45:09.000Z</td>\n",
              "      <td>Manaus</td>\n",
              "      <td>UberX</td>\n",
              "      <td>rider_canceled</td>\n",
              "      <td>0.00</td>\n",
              "      <td>0.00</td>\n",
              "    </tr>\n",
              "    <tr>\n",
              "      <th>4</th>\n",
              "      <td>2025-06-17T01:13:04.000Z</td>\n",
              "      <td>Manaus</td>\n",
              "      <td>UberX</td>\n",
              "      <td>rider_canceled</td>\n",
              "      <td>0.00</td>\n",
              "      <td>0.00</td>\n",
              "    </tr>\n",
              "  </tbody>\n",
              "</table>\n",
              "</div>"
            ],
            "text/plain": [
              "               request_time    city product_type          status  distance  \\\n",
              "0  2025-06-18T00:00:42.000Z  Manaus        UberX       completed      6.32   \n",
              "1  2025-06-17T20:25:51.000Z  Manaus        UberX       completed      6.54   \n",
              "2  2025-06-17T12:47:43.000Z  Manaus        UberX       completed      5.19   \n",
              "3  2025-06-17T12:45:09.000Z  Manaus        UberX  rider_canceled      0.00   \n",
              "4  2025-06-17T01:13:04.000Z  Manaus        UberX  rider_canceled      0.00   \n",
              "\n",
              "   fare_amount  \n",
              "0        17.96  \n",
              "1        24.14  \n",
              "2        17.05  \n",
              "3         0.00  \n",
              "4         0.00  "
            ]
          },
          "execution_count": 13,
          "metadata": {},
          "output_type": "execute_result"
        }
      ],
      "source": [
        "df_filtrado.head()"
      ]
    },
    {
      "cell_type": "markdown",
      "metadata": {
        "id": "QaIY5QFdOlot"
      },
      "source": [
        "### Visualizando quantas cidades existem no dataset"
      ]
    },
    {
      "cell_type": "code",
      "execution_count": 14,
      "metadata": {
        "colab": {
          "base_uri": "https://localhost:8080/",
          "height": 146
        },
        "id": "w7F_x4tDasBc",
        "outputId": "702551a3-5c53-4a24-f2c2-4a11f765127c"
      },
      "outputs": [
        {
          "data": {
            "text/plain": [
              "0              Manaus\n",
              "299    Rio de Janeiro\n",
              "Name: city, dtype: object"
            ]
          },
          "execution_count": 14,
          "metadata": {},
          "output_type": "execute_result"
        }
      ],
      "source": [
        "df_filtrado[\"city\"].drop_duplicates()"
      ]
    },
    {
      "cell_type": "markdown",
      "metadata": {
        "id": "xJemAfXMO8-N"
      },
      "source": [
        "### Visualizando quais são os status das corridas"
      ]
    },
    {
      "cell_type": "code",
      "execution_count": 15,
      "metadata": {
        "colab": {
          "base_uri": "https://localhost:8080/",
          "height": 241
        },
        "id": "dvt24qgQaUIH",
        "outputId": "a2cc2ea0-d341-4f62-d875-80110abaa631"
      },
      "outputs": [
        {
          "data": {
            "text/plain": [
              "0            completed\n",
              "3       rider_canceled\n",
              "6          unfulfilled\n",
              "143             failed\n",
              "214    driver_canceled\n",
              "Name: status, dtype: object"
            ]
          },
          "execution_count": 15,
          "metadata": {},
          "output_type": "execute_result"
        }
      ],
      "source": [
        "df_filtrado[\"status\"].drop_duplicates()"
      ]
    },
    {
      "cell_type": "markdown",
      "metadata": {
        "id": "qQRx4-LIPLGH"
      },
      "source": [
        "### Visualizando quais são os tipos de corrida disponíveis"
      ]
    },
    {
      "cell_type": "code",
      "execution_count": 16,
      "metadata": {
        "colab": {
          "base_uri": "https://localhost:8080/",
          "height": 429
        },
        "id": "M_4-8T31ZE9Y",
        "outputId": "00715650-7048-485e-cfbd-15c158605618"
      },
      "outputs": [
        {
          "data": {
            "text/plain": [
              "0             UberX\n",
              "6         uberX VIP\n",
              "24          Comfort\n",
              "63             Moto\n",
              "112      Flash Moto\n",
              "131       Wait&Save\n",
              "159      Prioridade\n",
              "176     Flash Bikes\n",
              "299           uberX\n",
              "495           Flash\n",
              "1652    UberX Promo\n",
              "Name: product_type, dtype: object"
            ]
          },
          "execution_count": 16,
          "metadata": {},
          "output_type": "execute_result"
        }
      ],
      "source": [
        "df_filtrado[\"product_type\"].drop_duplicates()"
      ]
    },
    {
      "cell_type": "markdown",
      "metadata": {
        "id": "FDCLDJxRPXw_"
      },
      "source": [
        "### Filtrando somente a cidade de Manaus"
      ]
    },
    {
      "cell_type": "code",
      "execution_count": 17,
      "metadata": {
        "id": "oiYHIFhCau6Q"
      },
      "outputs": [],
      "source": [
        "df_processed_city = df_filtrado[df_filtrado[\"city\"] == \"Manaus\"]"
      ]
    },
    {
      "cell_type": "markdown",
      "metadata": {
        "id": "nQlbqNruPhhN"
      },
      "source": [
        "### Filtrando corridas completas e corridas conceladas pelo motorista"
      ]
    },
    {
      "cell_type": "code",
      "execution_count": 18,
      "metadata": {
        "id": "JFSJ7zYnQHta"
      },
      "outputs": [],
      "source": [
        "df_processed_completed = df_processed_city[(df_processed_city[\"status\"] == \"completed\") | (df_processed_city[\"status\"] == \"driver_canceled\")]"
      ]
    },
    {
      "cell_type": "markdown",
      "metadata": {
        "id": "gLXBPZckPvI5"
      },
      "source": [
        "### Filtrando corridas de carro -- que não são entregas de comida ou encomendas"
      ]
    },
    {
      "cell_type": "code",
      "execution_count": 19,
      "metadata": {
        "id": "e275NSuFQLuK"
      },
      "outputs": [],
      "source": [
        "df_processed_type = df_processed_completed[df_processed_completed[\"product_type\"].isin([\"UberX\", \"uberX VIP\", \"Moto\", \"Comfort\", \"Prioridade\", \"UberX Promo\", \"uberX\"])]"
      ]
    },
    {
      "cell_type": "markdown",
      "metadata": {
        "id": "3zZa-Ub-Q-z-"
      },
      "source": [
        "### Comparando quantos registros tinham inicialmente e quantos restaram pós limpeza"
      ]
    },
    {
      "cell_type": "code",
      "execution_count": 20,
      "metadata": {
        "colab": {
          "base_uri": "https://localhost:8080/"
        },
        "id": "EcdUprtBbSjP",
        "outputId": "23f81a5f-b75b-4f68-f9d8-fd80efd83170"
      },
      "outputs": [
        {
          "name": "stdout",
          "output_type": "stream",
          "text": [
            "Inicialmente:  1676\n",
            "Pós limpeza:  996\n"
          ]
        }
      ],
      "source": [
        "print(\"Inicialmente: \", len(df_filtrado))\n",
        "print(\"Pós limpeza: \", len(df_processed_type))"
      ]
    },
    {
      "cell_type": "markdown",
      "metadata": {
        "id": "9sCjo2f9RwYH"
      },
      "source": [
        "### Contando o número de corridas por tipo de produto"
      ]
    },
    {
      "cell_type": "code",
      "execution_count": 21,
      "metadata": {
        "colab": {
          "base_uri": "https://localhost:8080/",
          "height": 303
        },
        "id": "ye9raFUiR2rK",
        "outputId": "6fea2199-11bb-4f0a-c8ee-62dadf04ffff"
      },
      "outputs": [
        {
          "data": {
            "text/plain": [
              "product_type\n",
              "UberX          580\n",
              "uberX VIP      337\n",
              "Moto            46\n",
              "Prioridade      25\n",
              "Comfort          5\n",
              "UberX Promo      3\n",
              "Name: count, dtype: int64"
            ]
          },
          "execution_count": 21,
          "metadata": {},
          "output_type": "execute_result"
        }
      ],
      "source": [
        "df_processed_type[\"product_type\"].value_counts()\n"
      ]
    },
    {
      "cell_type": "markdown",
      "metadata": {
        "id": "iyo3jfemSsBw"
      },
      "source": [
        "### Transformando o campo \"Request Time\" de String para Datetime"
      ]
    },
    {
      "cell_type": "code",
      "execution_count": 22,
      "metadata": {
        "id": "lbd70GXPcGyt"
      },
      "outputs": [],
      "source": [
        "df_processed_type = df_processed_type.copy()\n",
        "df_processed_type['request_time'] = pd.to_datetime(df_processed_type['request_time'])"
      ]
    },
    {
      "cell_type": "markdown",
      "metadata": {
        "id": "wOyfSGr7S8Ns"
      },
      "source": [
        "### Criando colunas de dia, mês, ano, dia da semana, hora do dia e custo por km"
      ]
    },
    {
      "cell_type": "code",
      "execution_count": 23,
      "metadata": {
        "id": "Ze1D3_PeTDlX"
      },
      "outputs": [],
      "source": [
        "df_processed_type['day'] = df_processed_type['request_time'].dt.day\n",
        "df_processed_type['month'] = df_processed_type['request_time'].dt.month\n",
        "df_processed_type['year'] = df_processed_type['request_time'].dt.year\n",
        "df_processed_type['day_of_week'] = df_processed_type['request_time'].dt.dayofweek\n",
        "df_processed_type['hour_of_day'] = df_processed_type['request_time'].dt.hour\n",
        "df_processed_type['cost_per_km'] = df_processed_type['fare_amount'] / df_processed_type['distance']"
      ]
    },
    {
      "cell_type": "markdown",
      "metadata": {
        "id": "32mRuz5ITJYd"
      },
      "source": [
        "### Criando função para converter o inteiro do dia da semana para string"
      ]
    },
    {
      "cell_type": "code",
      "execution_count": 24,
      "metadata": {
        "id": "9zquM4UFeu_K"
      },
      "outputs": [],
      "source": [
        "def converter_dia_da_semana(dia_da_semana):\n",
        "    dias_da_semana = {\n",
        "        0: 'segunda',\n",
        "        1: 'terça',\n",
        "        2: 'quarta',\n",
        "        3: 'quinta',\n",
        "        4: 'sexta',\n",
        "        5: 'sábado',\n",
        "        6: 'domingo'}\n",
        "    return dias_da_semana.get(dia_da_semana)"
      ]
    },
    {
      "cell_type": "code",
      "execution_count": 25,
      "metadata": {
        "id": "_J1cUrPhe8Sk"
      },
      "outputs": [],
      "source": [
        "df_processed_type[\"day_week\"] = df_processed_type[\"day_of_week\"].apply(converter_dia_da_semana)"
      ]
    },
    {
      "cell_type": "markdown",
      "metadata": {
        "id": "ogci7z2ETUGZ"
      },
      "source": [
        "### Excluindo colunas que não são mais necessárias"
      ]
    },
    {
      "cell_type": "code",
      "execution_count": 26,
      "metadata": {
        "id": "BJ5SYFGpfV7Q"
      },
      "outputs": [],
      "source": [
        "df_processed_type.drop(columns=['request_time', 'city', 'day_of_week'], inplace=True)"
      ]
    },
    {
      "cell_type": "markdown",
      "metadata": {
        "id": "Qzt7QRbWTZ9c"
      },
      "source": [
        "### Transformando o campo \"cost_per_km\" em um decimal de 2 casas"
      ]
    },
    {
      "cell_type": "code",
      "execution_count": 27,
      "metadata": {
        "id": "EwTXKpaffid4"
      },
      "outputs": [],
      "source": [
        "df_processed_type[\"cost_per_km\"] = round(df_processed_type[\"cost_per_km\"], 2)"
      ]
    },
    {
      "cell_type": "code",
      "execution_count": 28,
      "metadata": {
        "colab": {
          "base_uri": "https://localhost:8080/",
          "height": 206
        },
        "id": "Qn-y4AchfLaA",
        "outputId": "645e89b8-6afa-4b1f-b4ea-00f6fdcd7d18"
      },
      "outputs": [
        {
          "data": {
            "text/html": [
              "<div>\n",
              "<style scoped>\n",
              "    .dataframe tbody tr th:only-of-type {\n",
              "        vertical-align: middle;\n",
              "    }\n",
              "\n",
              "    .dataframe tbody tr th {\n",
              "        vertical-align: top;\n",
              "    }\n",
              "\n",
              "    .dataframe thead th {\n",
              "        text-align: right;\n",
              "    }\n",
              "</style>\n",
              "<table border=\"1\" class=\"dataframe\">\n",
              "  <thead>\n",
              "    <tr style=\"text-align: right;\">\n",
              "      <th></th>\n",
              "      <th>product_type</th>\n",
              "      <th>status</th>\n",
              "      <th>distance</th>\n",
              "      <th>fare_amount</th>\n",
              "      <th>day</th>\n",
              "      <th>month</th>\n",
              "      <th>year</th>\n",
              "      <th>hour_of_day</th>\n",
              "      <th>cost_per_km</th>\n",
              "      <th>day_week</th>\n",
              "    </tr>\n",
              "  </thead>\n",
              "  <tbody>\n",
              "    <tr>\n",
              "      <th>0</th>\n",
              "      <td>UberX</td>\n",
              "      <td>completed</td>\n",
              "      <td>6.32</td>\n",
              "      <td>17.96</td>\n",
              "      <td>18</td>\n",
              "      <td>6</td>\n",
              "      <td>2025</td>\n",
              "      <td>0</td>\n",
              "      <td>2.84</td>\n",
              "      <td>quarta</td>\n",
              "    </tr>\n",
              "    <tr>\n",
              "      <th>1</th>\n",
              "      <td>UberX</td>\n",
              "      <td>completed</td>\n",
              "      <td>6.54</td>\n",
              "      <td>24.14</td>\n",
              "      <td>17</td>\n",
              "      <td>6</td>\n",
              "      <td>2025</td>\n",
              "      <td>20</td>\n",
              "      <td>3.69</td>\n",
              "      <td>terça</td>\n",
              "    </tr>\n",
              "    <tr>\n",
              "      <th>2</th>\n",
              "      <td>UberX</td>\n",
              "      <td>completed</td>\n",
              "      <td>5.19</td>\n",
              "      <td>17.05</td>\n",
              "      <td>17</td>\n",
              "      <td>6</td>\n",
              "      <td>2025</td>\n",
              "      <td>12</td>\n",
              "      <td>3.29</td>\n",
              "      <td>terça</td>\n",
              "    </tr>\n",
              "    <tr>\n",
              "      <th>5</th>\n",
              "      <td>UberX</td>\n",
              "      <td>completed</td>\n",
              "      <td>5.13</td>\n",
              "      <td>15.97</td>\n",
              "      <td>16</td>\n",
              "      <td>6</td>\n",
              "      <td>2025</td>\n",
              "      <td>13</td>\n",
              "      <td>3.11</td>\n",
              "      <td>segunda</td>\n",
              "    </tr>\n",
              "    <tr>\n",
              "      <th>7</th>\n",
              "      <td>UberX</td>\n",
              "      <td>completed</td>\n",
              "      <td>5.19</td>\n",
              "      <td>16.95</td>\n",
              "      <td>13</td>\n",
              "      <td>6</td>\n",
              "      <td>2025</td>\n",
              "      <td>13</td>\n",
              "      <td>3.27</td>\n",
              "      <td>sexta</td>\n",
              "    </tr>\n",
              "  </tbody>\n",
              "</table>\n",
              "</div>"
            ],
            "text/plain": [
              "  product_type     status  distance  fare_amount  day  month  year  \\\n",
              "0        UberX  completed      6.32        17.96   18      6  2025   \n",
              "1        UberX  completed      6.54        24.14   17      6  2025   \n",
              "2        UberX  completed      5.19        17.05   17      6  2025   \n",
              "5        UberX  completed      5.13        15.97   16      6  2025   \n",
              "7        UberX  completed      5.19        16.95   13      6  2025   \n",
              "\n",
              "   hour_of_day  cost_per_km day_week  \n",
              "0            0         2.84   quarta  \n",
              "1           20         3.69    terça  \n",
              "2           12         3.29    terça  \n",
              "5           13         3.11  segunda  \n",
              "7           13         3.27    sexta  "
            ]
          },
          "execution_count": 28,
          "metadata": {},
          "output_type": "execute_result"
        }
      ],
      "source": [
        "df_processed_type.head()"
      ]
    },
    {
      "cell_type": "markdown",
      "metadata": {
        "id": "ofYbzkzTUmZx"
      },
      "source": [
        "### Caminho onde o arquivo processado será salvo"
      ]
    },
    {
      "cell_type": "code",
      "execution_count": 29,
      "metadata": {
        "id": "yzb-rS4-K8bU"
      },
      "outputs": [],
      "source": [
        "caminho_processed = Path('../data/processed')\n",
        "caminho_processed.mkdir(parents=True, exist_ok=True)\n",
        "\n",
        "df_processed_type.to_csv(f'{caminho_processed}/dados-preprocessados.csv', index=False)"
      ]
    }
  ],
  "metadata": {
    "accelerator": "GPU",
    "colab": {
      "gpuType": "T4",
      "provenance": []
    },
    "kernelspec": {
      "display_name": "Python 3",
      "name": "python3"
    },
    "language_info": {
      "codemirror_mode": {
        "name": "ipython",
        "version": 3
      },
      "file_extension": ".py",
      "mimetype": "text/x-python",
      "name": "python",
      "nbconvert_exporter": "python",
      "pygments_lexer": "ipython3",
      "version": "3.9.6"
    }
  },
  "nbformat": 4,
  "nbformat_minor": 0
}
