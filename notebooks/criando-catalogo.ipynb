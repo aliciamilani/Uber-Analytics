{
  "cells": [
    {
      "cell_type": "markdown",
      "metadata": {
        "id": "QWDh0p-XnXGf"
      },
      "source": [
        "## Importação de bibliotecas"
      ]
    },
    {
      "cell_type": "code",
      "execution_count": 5,
      "metadata": {
        "id": "FcavIV_aIU81"
      },
      "outputs": [],
      "source": [
        "import pandas as pd\n",
        "import os\n",
        "from pathlib import Path\n",
        "from datetime import date\n",
        "import json\n",
        "import seaborn as sns\n",
        "import matplotlib.pyplot as plt\n",
        "from datetime import date"
      ]
    },
    {
      "cell_type": "markdown",
      "metadata": {
        "id": "77wQ_WOoJBA-"
      },
      "source": [
        "## Ler dados do data lake"
      ]
    },
    {
      "cell_type": "code",
      "execution_count": 8,
      "metadata": {
        "colab": {
          "base_uri": "https://localhost:8080/"
        },
        "id": "l2C9cjmaImXP",
        "outputId": "eacbf1df-b445-40fb-ca62-e2d595dc7078"
      },
      "outputs": [],
      "source": [
        "# Caminho para salvar no Data Lake\n",
        "caminho_datalake = './data/raw/trips_data-0-2.csv'"
      ]
    },
    {
      "cell_type": "markdown",
      "metadata": {
        "id": "Y_YA8yGBJc3b"
      },
      "source": [
        "## Metadata\n",
        "    Metadados: informações descritivas sobre os dados armazenados"
      ]
    },
    {
      "cell_type": "code",
      "execution_count": null,
      "metadata": {
        "id": "n0ErPqnFI8AC"
      },
      "outputs": [],
      "source": [
        "# Definição do catálogo\n",
        "catalogo_datalake = [\n",
        "    {\n",
        "        'nome_dataset': 'trips_data',\n",
        "        'descricao': 'Resumo dos dados de viagens: horários e locais em que uma viagem foi solicitada, iniciada e concluída, assim como a distância percorrida.',\n",
        "        'caminho': 'data/raw/trips_data-0-2.csv',\n",
        "        'formato': 'CSV',\n",
        "        'criado_em': str(date.today()),\n",
        "        'versao': '1.0'\n",
        "    }\n",
        "]\n",
        "\n",
        "# Caminho onde o catálogo será salvo\n",
        "caminho_catalogo = Path('../metadata')\n",
        "caminho_catalogo.mkdir(parents=True, exist_ok=True)\n",
        "\n",
        "# Salvando o catálogo em formato JSON\n",
        "caminho_arquivo = caminho_catalogo / 'catalogo_datalake.json'\n",
        "with open(caminho_arquivo, 'w', encoding='utf-8') as f:\n",
        "    json.dump(catalogo_datalake, f, ensure_ascii=False, indent=4)"
      ]
    },
    {
      "cell_type": "code",
      "execution_count": null,
      "metadata": {},
      "outputs": [],
      "source": []
    }
  ],
  "metadata": {
    "accelerator": "GPU",
    "colab": {
      "gpuType": "T4",
      "provenance": []
    },
    "kernelspec": {
      "display_name": "Python 3",
      "name": "python3"
    },
    "language_info": {
      "codemirror_mode": {
        "name": "ipython",
        "version": 3
      },
      "file_extension": ".py",
      "mimetype": "text/x-python",
      "name": "python",
      "nbconvert_exporter": "python",
      "pygments_lexer": "ipython3",
      "version": "3.9.6"
    }
  },
  "nbformat": 4,
  "nbformat_minor": 0
}
